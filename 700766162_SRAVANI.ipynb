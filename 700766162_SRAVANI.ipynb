{
 "cells": [
  {
   "cell_type": "code",
   "execution_count": 1,
   "id": "64111d47",
   "metadata": {},
   "outputs": [
    {
     "name": "stdout",
     "output_type": "stream",
     "text": [
      "19\n",
      "26\n",
      "[19, 19, 20, 22, 24, 24, 24, 25, 25, 26, 19]\n",
      "[19, 19, 20, 22, 24, 24, 24, 25, 25, 26, 19, 26]\n",
      "24.0\n",
      "273\n",
      "22.75\n",
      "7\n"
     ]
    }
   ],
   "source": [
    "ages = [19, 22, 19, 24, 20, 25, 26, 24, 25, 24]     \n",
    "ages.sort()\n",
    "a = min(ages)\n",
    "b = max(ages)\n",
    "print(a)\n",
    "print(b)\n",
    "ages.append(a)\n",
    "print(ages)\n",
    "ages.append(b)\n",
    "print(ages)\n",
    "c = len(ages)\n",
    "s =(c-1)//2\n",
    "median1 = (ages[s] + ages[s+1])/2\n",
    "print(median1)\n",
    "sum1 = sum(ages)\n",
    "print(sum1)\n",
    "avg = sum1/c\n",
    "print(avg)\n",
    "range1 = b-a\n",
    "print(range1)\n"
   ]
  },
  {
   "cell_type": "code",
   "execution_count": 2,
   "id": "c1a47790",
   "metadata": {},
   "outputs": [
    {
     "name": "stdout",
     "output_type": "stream",
     "text": [
      "{'name': 'BROWNIE', 'color': 'BLACK', 'breed': 'GREAT DANE', 'legs': '4', 'age': '9'}\n",
      "{'first_name': 'SPARSHA', 'last_name': 'ADURI', 'gender': 'FEMALE', 'age': '22', 'hobbies': ['CRICKET', 'MUSIC'], 'achievements': 'STATE CHAMPION', 'country': 'INDIA', 'city': 'PDPL', 'ph no': '+91 9378762761'}\n",
      "9\n",
      "['CRICKET', 'MUSIC']\n",
      "<class 'list'>\n",
      "['CRICKET', 'MUSIC', 'STATE CHAMPOIN']\n",
      "dict_keys(['first_name', 'last_name', 'gender', 'age', 'hobbies', 'achievements', 'country', 'city', 'ph no'])\n",
      "dict_values(['SPARSHA', 'ADURI', 'FEMALE', '22', ['CRICKET', 'MUSIC', 'STATE CHAMPOIN'], 'STATE CHAMPION', 'INDIA', 'PDPL', '+91 9378762761'])\n"
     ]
    }
   ],
   "source": [
    "dog = dict()\n",
    "dog[\"name\"] = \"BROWNIE\"\n",
    "dog[\"color\"] = \"BLACK\"\n",
    "dog[\"breed\"] = \"GREAT DANE\"\n",
    "dog[\"legs\"] = \"4\"\n",
    "dog[\"age\"] = \"9\"\n",
    "print(dog)\n",
    "\n",
    "student = dict()\n",
    "student[\"first_name\"] = \"SPARSHA\"\n",
    "student[\"last_name\"] = \"ADURI\"\n",
    "student[\"gender\"] = \"FEMALE\"\n",
    "student[\"age\"] = \"22\"\n",
    "student[\"hobbies\"] = [\"CRICKET\" , \"MUSIC\"]\n",
    "student[\"achievements\"] = \"STATE CHAMPION\"\n",
    "student[\"country\"] = \"INDIA\"\n",
    "student[\"city\"] = \"PDPL\"\n",
    "student[\"ph no\"] = \"+91 9378762761\"\n",
    "print(student)\n",
    "length1 = len(student)\n",
    "print(length1)\n",
    "print(student[\"hobbies\"])\n",
    "print(type(student[\"hobbies\"]))\n",
    "student[\"hobbies\"].extend([\"STATE CHAMPOIN\"])\n",
    "print(student[\"hobbies\"])\n",
    "print(student.keys())\n",
    "print(student.values())"
   ]
  },
  {
   "cell_type": "code",
   "execution_count": 4,
   "id": "66275b1c",
   "metadata": {},
   "outputs": [
    {
     "name": "stdout",
     "output_type": "stream",
     "text": [
      "('SRAVANI', 'NAVYA', 'BINDHU', 'HEMA', 'KARTHIK', 'YASWANTH')\n",
      "('SRAVANI', 'NAVYA', 'BINDHU', 'HEMA', 'KARTHIK', 'YASWANTH')\n",
      "('SRAVANI', 'NAVYA', 'BINDHU', 'HEMA', 'KARTHIK', 'YASWANTH', 'VIKAS', 'KAVYA')\n"
     ]
    }
   ],
   "source": [
    "brothers = (\"HEMA\", \"KARTHIK\", \"YASWANTH\");\n",
    "sisters = (\"SRAVANI\", \"NAVYA\", \"BINDHU\");\n",
    "siblings = sisters + brothers;\n",
    "print(siblings);\n",
    "length1 = (siblings);\n",
    "print(length1);\n",
    "family_members = siblings + (\"VIKAS\", \"KAVYA\");\n",
    "print(family_members);\n"
   ]
  },
  {
   "cell_type": "code",
   "execution_count": 5,
   "id": "fa7d47a5",
   "metadata": {},
   "outputs": [
    {
     "name": "stdout",
     "output_type": "stream",
     "text": [
      " length: 7\n",
      "{'Apple', 'twitter', 'Microsoft', 'Facebook', 'Oracle', 'Amazon', 'Google', 'IBM'}\n",
      "{'Apple', 'twitter', 'Microsoft', 'Facebook', 'Oracle', 'Amazon', 'Google'}\n",
      "{'twitter', 'Amazon', 'Blueberry', 'Google', 'Apple', 'Microsoft', 'Facebook', 'Oracle'}\n",
      "{19, 20, 22, 24, 25, 26, 27, 28}\n",
      "{19, 20, 22, 24, 25, 26}\n",
      "{19, 20, 22, 24, 25, 26}\n",
      "True\n",
      "False\n",
      "{27, 28}\n",
      "set()\n",
      "Age 8\n",
      "Age {19, 22, 24, 25, 26}\n",
      "Age 5\n"
     ]
    }
   ],
   "source": [
    "it_companies = {'Facebook', 'Google', 'Microsoft', 'Apple', 'IBM', 'Oracle', 'Amazon'} \n",
    "print(\" length:\",len(it_companies))  \n",
    "it_companies.update(['twitter'])\n",
    "print(it_companies)  \n",
    "it_companies.remove(\"IBM\")\n",
    "print(it_companies)\n",
    "it_companies.update({'Blueberry'})\n",
    "print(it_companies)\n",
    "A = {19, 22, 24, 20, 25, 26}\n",
    "B = {19, 22, 20, 25, 26, 24, 28, 27}\n",
    "X=A.union(B)\n",
    "print(X)\n",
    "Y=A.intersection(B)  \n",
    "print(Y)\n",
    "print(A&B)\n",
    "print(A.issubset(B))  \n",
    "print(A.isdisjoint(B)) \n",
    "print(A.symmetric_difference(B))   \n",
    "X.clear()  \n",
    "print(X)\n",
    "age_list = [22, 19, 24, 25, 26, 24, 25, 24]\n",
    "print(\"Age\",len(age_list))\n",
    "AGE_SET= set(age_list) \n",
    "print(\"Age\",AGE_SET) \n",
    "print(\"Age\",len(AGE_SET))\n"
   ]
  },
  {
   "cell_type": "code",
   "execution_count": 6,
   "id": "1b9a67a5",
   "metadata": {},
   "outputs": [
    {
     "name": "stdout",
     "output_type": "stream",
     "text": [
      "The area of circle with 30 is 2826.0\n",
      "circumference of circle: 188.4\n",
      "15\n",
      "1256.0\n"
     ]
    }
   ],
   "source": [
    "r = 30\n",
    "pi = 3.14\n",
    "area_of_circle = pi*r**2  \n",
    "res = 'The area of circle with {} is {}'.format(str(r), str(area_of_circle))\n",
    "print(res)\n",
    "circum_of_circle = 2*3.14*r \n",
    "print(\"circumference of circle:\",circum_of_circle)\n",
    "user_input=float(input()) \n",
    "raaadius=20\n",
    "area_of_circle=pi*raaadius**2\n",
    "print(area_of_circle)"
   ]
  },
  {
   "cell_type": "code",
   "execution_count": 7,
   "id": "c11e998d",
   "metadata": {},
   "outputs": [
    {
     "name": "stdout",
     "output_type": "stream",
     "text": [
      "no.of unique words are  10\n"
     ]
    }
   ],
   "source": [
    "sentence=\"I am a teacher and I love to inspire and teach people\"\n",
    "unique_letter=set(sentence.split())\n",
    "print(\"no.of unique words are \",len(unique_letter))\n"
   ]
  },
  {
   "cell_type": "code",
   "execution_count": 8,
   "id": "0c055dc1",
   "metadata": {},
   "outputs": [
    {
     "name": "stdout",
     "output_type": "stream",
     "text": [
      "Name\tAge\tCountry\tCity\tASABNEH\t250\tFINLAND\tHELSINKI\n"
     ]
    }
   ],
   "source": [
    "sequence=\"Name\\tAge\\tCountry\\tCity\\tASABNEH\\t250\\tFINLAND\\tHELSINKI\";\n",
    "print(sequence);\n"
   ]
  },
  {
   "cell_type": "code",
   "execution_count": 9,
   "id": "1937b7fd",
   "metadata": {},
   "outputs": [
    {
     "name": "stdout",
     "output_type": "stream",
     "text": [
      "The area of a circle with a radius 10 is 314.0 meters square.\n"
     ]
    }
   ],
   "source": [
    "radius = 10\n",
    "area = 3.14 * radius ** 2\n",
    "print(\"The area of a circle with a radius %s is %s meters square.\" %(radius,area))\n"
   ]
  },
  {
   "cell_type": "code",
   "execution_count": 10,
   "id": "e90887b8",
   "metadata": {},
   "outputs": [
    {
     "name": "stdout",
     "output_type": "stream",
     "text": [
      "number of students5\n",
      "enter weight in lbs:1 145\n",
      "enter weight in lbs:2 150\n",
      "enter weight in lbs:3 152\n",
      "enter weight in lbs:4 160\n",
      "enter weight in lbs:5 158\n",
      "given weights in lbs: [145, 150, 152, 160, 158]\n",
      "converted weights in kgs: [65.69, 67.95, 68.86, 72.48, 71.57]\n"
     ]
    }
   ],
   "source": [
    "c=0.45\n",
    "v=int(input(\"number of students\")) \n",
    "l1=[]\n",
    "l2=[]\n",
    "for i in range(v):\n",
    "    l1.append(int(input(\"enter weight in lbs:\"+str(i+1)+\" \"))) \n",
    "    l2.append(round(l1[i]*0.453,2))\n",
    "print(\"given weights in lbs:\",l1)\n",
    "print(\"converted weights in kgs:\",l2)\n"
   ]
  },
  {
   "cell_type": "code",
   "execution_count": null,
   "id": "5dd36736",
   "metadata": {},
   "outputs": [],
   "source": []
  }
 ],
 "metadata": {
  "kernelspec": {
   "display_name": "Python 3 (ipykernel)",
   "language": "python",
   "name": "python3"
  },
  "language_info": {
   "codemirror_mode": {
    "name": "ipython",
    "version": 3
   },
   "file_extension": ".py",
   "mimetype": "text/x-python",
   "name": "python",
   "nbconvert_exporter": "python",
   "pygments_lexer": "ipython3",
   "version": "3.11.5"
  }
 },
 "nbformat": 4,
 "nbformat_minor": 5
}
